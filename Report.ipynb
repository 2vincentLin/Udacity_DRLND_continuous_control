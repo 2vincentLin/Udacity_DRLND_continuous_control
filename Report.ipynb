{
 "cells": [
  {
   "cell_type": "markdown",
   "metadata": {},
   "source": [
    "# Udacity DRLND Continuous Control\n",
    "\n"
   ]
  },
  {
   "cell_type": "markdown",
   "metadata": {},
   "source": [
    "### Algorithm\n",
    "\n",
    "The choice of algorithm to solve the Unity Reacher environment is [DDPG](https://arxiv.org/abs/1509.02971). \n",
    "\n",
    "### Hyperparameters\n",
    "\n",
    "BUFFER_SIZE = int(1e6)  # replay buffer size\n",
    "BATCH_SIZE = 256        # minibatch size\n",
    "GAMMA = 0.9             # discount factor\n",
    "TAU = 1e-3              # for soft update of target parameters\n",
    "LR_ACTOR = 1e-4         # learning rate of the actor\n",
    "LR_CRITIC = 1e-4        # learning rate of the critic\n",
    "WEIGHT_DECAY = 0.0001   # L2 weight decay\n",
    "\n",
    "### Model architecture\n",
    "\n",
    "For this project, I used a slightly simple neural network, so using GPU does not actually speed up much compared to training on CPU.\n",
    "\n",
    "Actor-network\n",
    "\n",
    "| <i></i>  |input units|output units|\n",
    "|---|---|---|\n",
    "|input layer|33|128|\n",
    "|hidden layer|128|128|\n",
    "|output layer|128|4|\n",
    "\n",
    "Critic-network\n",
    "\n",
    "| <i></i>  |input units|output units|\n",
    "|---|---|---|\n",
    "|input layer|33|128|\n",
    "|hidden layer|128+4|128|\n",
    "|output layer|128|1|\n",
    "\n",
    "I also add batch normalization layer on most layers except before input and after output layer of Critic-network."
   ]
  },
  {
   "cell_type": "markdown",
   "metadata": {},
   "source": [
    "## 1. load the necessary package"
   ]
  },
  {
   "cell_type": "code",
   "execution_count": 1,
   "metadata": {},
   "outputs": [],
   "source": [
    "%load_ext autoreload\n",
    "%autoreload 1"
   ]
  },
  {
   "cell_type": "code",
   "execution_count": 2,
   "metadata": {},
   "outputs": [],
   "source": [
    "from unityagents import UnityEnvironment\n",
    "import numpy as np\n",
    "import random\n",
    "import torch\n",
    "import numpy as np\n",
    "from collections import deque\n",
    "import matplotlib.pyplot as plt\n",
    "%matplotlib inline\n",
    "\n",
    "%aimport  model, test_agents\n",
    "\n",
    "from test_agents import Agent\n",
    "from model import Actor, Critic"
   ]
  },
  {
   "cell_type": "code",
   "execution_count": 3,
   "metadata": {},
   "outputs": [
    {
     "name": "stderr",
     "output_type": "stream",
     "text": [
      "INFO:unityagents:\n",
      "'Academy' started successfully!\n",
      "Unity Academy name: Academy\n",
      "        Number of Brains: 1\n",
      "        Number of External Brains : 1\n",
      "        Lesson number : 0\n",
      "        Reset Parameters :\n",
      "\t\tgoal_speed -> 1.0\n",
      "\t\tgoal_size -> 5.0\n",
      "Unity brain name: ReacherBrain\n",
      "        Number of Visual Observations (per agent): 0\n",
      "        Vector Observation space type: continuous\n",
      "        Vector Observation space size (per agent): 33\n",
      "        Number of stacked Vector Observation: 1\n",
      "        Vector Action space type: continuous\n",
      "        Vector Action space size (per agent): 4\n",
      "        Vector Action descriptions: , , , \n"
     ]
    },
    {
     "name": "stdout",
     "output_type": "stream",
     "text": [
      "Number of agents: 20\n",
      "Size of each action: 4\n",
      "states shape:  (20, 33)\n"
     ]
    }
   ],
   "source": [
    "# file = 'One_agent/Reacher.exe'\n",
    "file = '20_agents/Reacher.exe'\n",
    "env = UnityEnvironment(file_name=file)\n",
    "brain_name = env.brain_names[0]\n",
    "brain = env.brains[brain_name]\n",
    "# reset the environment\n",
    "env_info = env.reset(train_mode=True)[brain_name]\n",
    "# number of agents\n",
    "num_agents = len(env_info.agents)\n",
    "print('Number of agents:', num_agents)\n",
    "# size of each action\n",
    "action_size = brain.vector_action_space_size\n",
    "print('Size of each action:', action_size)\n",
    "# examine the state space \n",
    "states = env_info.vector_observations\n",
    "print('states shape: ', states.shape)\n",
    "state_size = states.shape[1]"
   ]
  },
  {
   "cell_type": "markdown",
   "metadata": {},
   "source": [
    "## 2. training control\n",
    "\n",
    "Due to the long training time, I come up with a simple idea to be able to stop and continue the training without losing any progress. I create a python dictionary called log to store some hyperparameters like total_episodes, etc. Then I use another python script called log_control to check and modify log. To be able to stop the training anytime I want, there is an item whose key called 'end_now', if I want to end the training, I simply call end_now() in log_control.py, then before the next episode, ddpg() will check if it's True, if yes, then ddpg() ends the training right away. "
   ]
  },
  {
   "cell_type": "code",
   "execution_count": 4,
   "metadata": {},
   "outputs": [],
   "source": [
    "import pickle\n",
    "log = {\n",
    "    'total_episodes': 120, \n",
    "    'current_episodes': 0,\n",
    "    'scores': [], # store the score for every episode\n",
    "    'save_every': 30,\n",
    "    'print_every': 30, \n",
    "    'end_now': False, # use log_control.py to modify this to end the training before next episode start\n",
    "    'solved': False,\n",
    "    'solved_score':30, # score that we consider the environment is solved\n",
    "    'solve_in_episodes': None\n",
    "}\n",
    "\n",
    "import os.path\n",
    "log_path = 'log.pkl'\n",
    "\n",
    "def save_log(log_path, log):\n",
    "    with open(log_path, 'wb') as f: \n",
    "        pickle.dump(log, f)\n",
    "def load_log(log_path):\n",
    "    with open(log_path, 'rb') as f: \n",
    "        log = pickle.load(f)\n",
    "    return log\n",
    "\n",
    "# if you need to start over then uncomment the next line\n",
    "# save_log(log_path, log)\n",
    "\n",
    "if os.path.exists(log_path):\n",
    "    log = load_log(log_path)\n",
    "else:\n",
    "    save_log(log_path, log)\n"
   ]
  },
  {
   "cell_type": "markdown",
   "metadata": {},
   "source": [
    "## 3. Training"
   ]
  },
  {
   "cell_type": "code",
   "execution_count": 5,
   "metadata": {},
   "outputs": [
    {
     "name": "stdout",
     "output_type": "stream",
     "text": [
      "Episode 30\tAverage Score: 4.27\tScore: 14.40\n",
      "Episode 60\tAverage Score: 19.77\tScore: 39.05\n",
      "Episode 90\tAverage Score: 26.13\tScore: 37.40\n",
      "Episode 108\tAverage Score: 30.23\tScore: 37.41\n",
      "environment solved in 108th episodes\n",
      "Episode 120\tAverage Score: 34.49\tScore: 37.86\n"
     ]
    },
    {
     "data": {
      "image/png": "[encoded data removed]",
      "text/plain": [
       "<Figure size 432x288 with 1 Axes>"
      ]
     },
     "metadata": {
      "needs_background": "light"
     },
     "output_type": "display_data"
    },
    {
     "name": "stdout",
     "output_type": "stream",
     "text": [
      "Wall time: 22h 35min 56s\n"
     ]
    }
   ],
   "source": [
    "%%time\n",
    "agent = Agent(state_size=state_size, action_size=action_size, num_agents=num_agents, num_process=10,random_seed=0)\n",
    "\n",
    "\n",
    "def ddpg(max_t=1000, log=log, log_path=log_path):\n",
    "    # ----------load variables\n",
    "    total_episodes = log['total_episodes']\n",
    "    current_episodes = log['current_episodes']\n",
    "    scores = log['scores']\n",
    "    save_every = log['save_every']\n",
    "    print_every = log['print_every']\n",
    "    solved = log['solved']\n",
    "    solved_score = log['solved_score']\n",
    "    scores_deque = deque(maxlen=100)\n",
    "\n",
    "    # ----------load weights and scores_deque if continue training\n",
    "    if current_episodes != 0:\n",
    "        agent.load_weights()\n",
    "        [scores_deque.append(e) for e in scores]\n",
    "\n",
    "    for i_episode in range(current_episodes + 1, total_episodes + 1):\n",
    "\n",
    "        # -----check if need to end the training-------\n",
    "        log = load_log(log_path)\n",
    "        if log['end_now']:\n",
    "            log['end_now'] = False\n",
    "            log['current_episodes'] = i_episode-1 # this episodes hasn't started yet\n",
    "            save_log(log_path, log)\n",
    "            agent.save_weights()\n",
    "            break\n",
    "\n",
    "        # -----generating state--------\n",
    "        env_info = env.reset(train_mode=True)[brain_name]  # reset the environment    \n",
    "        states = env_info.vector_observations  # get the current state (for each agent)\n",
    "        agent.reset()\n",
    "        score = 0\n",
    "\n",
    "        for t in range(max_t):\n",
    "            actions = agent.act(states)\n",
    "            env_info = env.step(actions)[brain_name]  # send all actions to tne environment\n",
    "            next_states = env_info.vector_observations  # get next state (for each agent)\n",
    "            rewards = env_info.rewards  # get reward (for each agent)\n",
    "            dones = env_info.local_done  # see if episode finished\n",
    "            agent.step(states, actions, rewards, next_states, dones)\n",
    "            states = next_states\n",
    "            score += np.mean(rewards)\n",
    "            if np.any(dones):\n",
    "                break\n",
    "        scores_deque.append(score)\n",
    "        scores.append(score)\n",
    "\n",
    "        print('\\rEpisode {}\\tAverage Score: {:.2f}\\tScore: {:.2f}'.format(i_episode, np.mean(scores_deque), score), end=\"\")\n",
    "        if i_episode % print_every == 0:\n",
    "            print('\\rEpisode {}\\tAverage Score: {:.2f}'.format(i_episode, np.mean(scores_deque)))\n",
    "            \n",
    "        # -----------if solved, store model weights and log------------------\n",
    "        if np.mean(scores_deque) > solved_score and solved == False:\n",
    "            print('\\nenvironment solved in {}th episodes'.format(i_episode))\n",
    "            solved = True\n",
    "            log['solved'] = True\n",
    "            log['solve_in_episodes'] = i_episode\n",
    "            agent.save_weights()\n",
    "            save_log(log_path, log)\n",
    "            \n",
    "        # ------------ save progress----------\n",
    "        if i_episode % save_every == 0 or i_episode == total_episodes:\n",
    "            log['current_episodes'] = i_episode\n",
    "            log['scores'] = scores\n",
    "            save_log(log_path, log)\n",
    "            agent.save_weights()\n",
    "#     if np.mean(scores_deque) > solved_score:\n",
    "#         agent.save_weights()\n",
    "    return scores\n",
    "\n",
    "\n",
    "scores = ddpg()\n",
    "\n",
    "fig = plt.figure()\n",
    "ax = fig.add_subplot(111)\n",
    "plt.plot(np.arange(1, len(scores) + 1), scores)\n",
    "plt.ylabel('Score')\n",
    "plt.xlabel('Episode #')\n",
    "plt.show()"
   ]
  },
  {
   "cell_type": "markdown",
   "metadata": {},
   "source": [
    "## 4. Replay"
   ]
  },
  {
   "cell_type": "code",
   "execution_count": 9,
   "metadata": {},
   "outputs": [],
   "source": [
    "agent = Agent(state_size=state_size, action_size=action_size, num_agents=num_agents, num_process=10,random_seed=0)\n",
    "agent.load_weights()"
   ]
  },
  {
   "cell_type": "code",
   "execution_count": 15,
   "metadata": {},
   "outputs": [
    {
     "name": "stdout",
     "output_type": "stream",
     "text": [
      "Total score (averaged over agents) this episode: 38.11249914811924\n"
     ]
    }
   ],
   "source": [
    "env_info = env.reset(train_mode=False)[brain_name]     # reset the environment    \n",
    "states = env_info.vector_observations                  # get the current state (for each agent)\n",
    "scores = np.zeros(num_agents)                          # initialize the score (for each agent)\n",
    "while True:\n",
    "    actions = agent.act(states)                        # select an action (for each agent)\n",
    "\n",
    "    env_info = env.step(actions)[brain_name]           # send all actions to tne environment\n",
    "    next_states = env_info.vector_observations         # get next state (for each agent)\n",
    "    rewards = env_info.rewards                         # get reward (for each agent)\n",
    "    dones = env_info.local_done                        # see if episode finished\n",
    "    scores += env_info.rewards                         # update the score (for each agent)\n",
    "    states = next_states                               # roll over states to next time step\n",
    "    if np.any(dones):                                  # exit loop if episode finished\n",
    "        break\n",
    "print('Total score (averaged over agents) this episode: {}'.format(np.mean(scores)))"
   ]
  },
  {
   "cell_type": "code",
   "execution_count": null,
   "metadata": {},
   "outputs": [],
   "source": [
    "env.close()"
   ]
  },
  {
   "cell_type": "markdown",
   "metadata": {},
   "source": [
    "## 5. Future improve\n",
    "\n",
    "When first time I ran the 20 agents version of this environment, it took my AMD 12 cores CPU and Nvidia GTX 1080 GPU over three days to run 300 episodes. One of the reason is that I only utilized one CPU core and one GPU. Then I thought, if I can come up a way to utilize more computing power, then I'd be able to try more combinations of hyperparameters in the same amount of the time. Next, I spend the whole week trying to use torch.multiprocessing to utilize multiple cores training the models. In the end, I did it, I spawn 20 subprocesses(`Process(target=agent.learn, ...)`, using Queue() to send them experiences to train. Just one problem, it only works in CPU mode, I was unable to use CUDA. I also tried other methods like sending subprocesses the model_dict() and rebuild the model, train then send back model_dict(), but I still couldn't use CUDA(at least in Windows).\n",
    "\n",
    "Another parallel package I also tried is ipyparallel, but it still suffers the same problem: you won't be able to use CUDA. However, ipyparallel seems to have more restriction comparing to torch.multiprocessing.\n",
    "\n",
    "There are some future works for me to explore and improve this project:\n",
    "\n",
    "1. Modify the 20 subprocesses part, combining subprocesses and threads to consume less resource(20 processes plus training on CPU is too much to handle on my local machine). \n",
    "2. Try to run the code under Linux. Some source said the only way to use torch.multiprocessing and CUDA together(torch version <= 0.41) is under Linux.\n",
    "3. I shouldn't need 20 critics or 20 actors, I can collect 20 actors output then send to one critic to learn. By using one common critic, it should greatly improve learning speed.\n",
    "4. Implementing D4PG.\n",
    "\n",
    "\n"
   ]
  },
  {
   "cell_type": "code",
   "execution_count": null,
   "metadata": {},
   "outputs": [],
   "source": []
  }
 ],
 "metadata": {
  "kernelspec": {
   "display_name": "drlnd",
   "language": "python",
   "name": "drlnd"
  },
  "language_info": {
   "codemirror_mode": {
    "name": "ipython",
    "version": 3
   },
   "file_extension": ".py",
   "mimetype": "text/x-python",
   "name": "python",
   "nbconvert_exporter": "python",
   "pygments_lexer": "ipython3",
   "version": "3.6.7"
  }
 },
 "nbformat": 4,
 "nbformat_minor": 2
}
